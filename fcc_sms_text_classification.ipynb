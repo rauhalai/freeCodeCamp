{
  "cells": [
    {
      "cell_type": "code",
      "execution_count": null,
      "metadata": {
        "id": "8RZOuS9LWQvv"
      },
      "outputs": [],
      "source": [
        "# import libraries\n",
        "try:\n",
        "  # %tensorflow_version only exists in Colab.\n",
        "  !pip install tensorflow\n",
        "except Exception:\n",
        "  pass\n",
        "import tensorflow as tf\n",
        "import pandas as pd\n",
        "from tensorflow import keras\n",
        "!pip install tensorflow-datasets\n",
        "import tensorflow_datasets as tfds\n",
        "import numpy as np\n",
        "import matplotlib.pyplot as plt\n",
        "\n",
        "from keras.preprocessing import sequence\n",
        "\n",
        "#print(tf.__version__)"
      ]
    },
    {
      "cell_type": "code",
      "execution_count": null,
      "metadata": {
        "id": "lMHwYXHXCar3"
      },
      "outputs": [],
      "source": [
        "# get data files\n",
        "!wget https://cdn.freecodecamp.org/project-data/sms/train-data.tsv\n",
        "!wget https://cdn.freecodecamp.org/project-data/sms/valid-data.tsv\n",
        "\n",
        "train_file_path = \"train-data.tsv\"\n",
        "test_file_path = \"valid-data.tsv\""
      ]
    },
    {
      "cell_type": "code",
      "metadata": {
        "id": "MKY4y_tjnUEW"
      },
      "source": [
        "# Encoder\n",
        "\n",
        "vocab = {}\n",
        "word_encoding = 1\n",
        "def one_hot_encoding(text):\n",
        "  global word_encoding\n",
        "\n",
        "  words = text.lower().split(\" \")\n",
        "  encoding = []\n",
        "\n",
        "  for word in words:\n",
        "    if word in vocab:\n",
        "      code = vocab[word]\n",
        "      encoding.append(code)\n",
        "    else:\n",
        "      vocab[word] = word_encoding\n",
        "      encoding.append(word_encoding)\n",
        "      word_encoding += 1\n",
        "\n",
        "  return encoding\n"
      ],
      "execution_count": null,
      "outputs": []
    },
    {
      "cell_type": "code",
      "execution_count": null,
      "metadata": {
        "id": "g_h508FEClxO"
      },
      "outputs": [],
      "source": [
        "# Read data\n",
        "\n",
        "train_data = pd.read_table(train_file_path, names=[\"label\", \"text\"])\n",
        "test_data = pd.read_table(test_file_path, names=[\"label\", \"text\"])\n",
        "\n",
        "train_labels = train_data.pop('label').to_frame()\n",
        "test_labels = test_data.pop('label').to_frame()\n",
        "\n",
        "# Labes (what to predict)\n",
        "\n",
        "train_labels.columns =['label']\n",
        "test_labels.columns =['label']\n",
        "\n",
        "# Text categorical columns to numeric\n",
        "train_labels['label'] = train_labels['label'].map({\"ham\": 0, \"spam\": 1})\n",
        "test_labels['label'] = test_labels['label'].map({\"ham\": 0, \"spam\": 1})\n",
        "\n"
      ]
    },
    {
      "cell_type": "code",
      "source": [
        "# Encode texts to integers\n",
        "\n",
        "train_data[\"text\"] = train_data[\"text\"].apply(one_hot_encoding)\n",
        "test_data[\"text\"] = test_data[\"text\"].apply(one_hot_encoding)"
      ],
      "metadata": {
        "id": "dssKU96OYK1I"
      },
      "execution_count": null,
      "outputs": []
    },
    {
      "cell_type": "code",
      "source": [
        "# Check encoding\n",
        "\n",
        "print(\"train_data\\n\", train_data['text'][9])\n"
      ],
      "metadata": {
        "id": "SLoW5j8xkCaE"
      },
      "execution_count": null,
      "outputs": []
    },
    {
      "cell_type": "code",
      "source": [
        "# Set text length to same size for modeling for every text\n",
        "\n",
        "MAXLEN = 250\n",
        "\n",
        "train_data = tf.keras.utils.pad_sequences(train_data['text'], MAXLEN)\n",
        "\n",
        "test_data = tf.keras.utils.pad_sequences(test_data['text'], MAXLEN)"
      ],
      "metadata": {
        "id": "fuZGZgL-imiX"
      },
      "execution_count": null,
      "outputs": []
    },
    {
      "cell_type": "code",
      "source": [
        "# Create model\n",
        "\n",
        "VOCAB_SIZE = 88584\n",
        "\n",
        "model = tf.keras.Sequential([\n",
        "    tf.keras.layers.Embedding(VOCAB_SIZE, 32),\n",
        "    tf.keras.layers.LSTM(32),\n",
        "    tf.keras.layers.Dense(1, activation=\"sigmoid\")\n",
        "])\n",
        "\n"
      ],
      "metadata": {
        "id": "ZU6fACThm7_w"
      },
      "execution_count": null,
      "outputs": []
    },
    {
      "cell_type": "code",
      "source": [
        "# Compile model\n",
        "\n",
        "model.compile(loss=\"binary_crossentropy\",optimizer=\"rmsprop\",metrics=['acc'])\n",
        "\n",
        "history = model.fit(train_data, train_labels, epochs=10, validation_split=0.2)"
      ],
      "metadata": {
        "id": "90ElEsv2nCAp"
      },
      "execution_count": null,
      "outputs": []
    },
    {
      "cell_type": "code",
      "source": [
        "# Evaluate model\n",
        "\n",
        "results = model.evaluate(test_data, test_labels)\n",
        "print(results)"
      ],
      "metadata": {
        "id": "46OMnN0dnUZH"
      },
      "execution_count": null,
      "outputs": []
    },
    {
      "cell_type": "code",
      "source": [
        "# Model summary\n",
        "\n",
        "model.summary()"
      ],
      "metadata": {
        "id": "xCCz6C1fuR-Z"
      },
      "execution_count": null,
      "outputs": []
    },
    {
      "cell_type": "code",
      "execution_count": null,
      "metadata": {
        "id": "J9tD9yACG6M9"
      },
      "outputs": [],
      "source": [
        "# function to predict messages based on model\n",
        "# (should return list containing prediction and label, ex. [0.008318834938108921, 'ham'])\n",
        "\n",
        "def predict_message(pred_text):\n",
        "\n",
        "  # Encode text to predict, and put it to numpy array\n",
        "  encoded_text = np.array(one_hot_encoding(pred_text))\n",
        "\n",
        "  # Fill zeros to get to same length as every text\n",
        "  zeros_to_fill = MAXLEN - encoded_text.size\n",
        "  encoded_text = np.pad(encoded_text, (zeros_to_fill, 0), 'constant')\n",
        "\n",
        "  # Shape for model prediction\n",
        "  pred = np.zeros((1,250))\n",
        "  pred[0] = encoded_text\n",
        "\n",
        "  # Predict\n",
        "  result = model.predict(pred)\n",
        "\n",
        "  # Initialize result\n",
        "  result_text = \"\"\n",
        "\n",
        "  if result > 0.5 :\n",
        "    result_text = \"spam\"\n",
        "  else : result_text = \"ham\"\n",
        "\n",
        "  prediction = [result, result_text]\n",
        "\n",
        "  return (prediction)\n",
        "\n",
        "pred_text = \"how are you doing today?\"\n",
        "\n",
        "prediction = predict_message(pred_text)\n",
        "print(prediction)"
      ]
    },
    {
      "cell_type": "code",
      "execution_count": null,
      "metadata": {
        "id": "Dxotov85SjsC"
      },
      "outputs": [],
      "source": [
        "# Run this cell to test your function and model. Do not modify contents.\n",
        "def test_predictions():\n",
        "  test_messages = [\"how are you doing today\",\n",
        "                   \"sale today! to stop texts call 98912460324\",\n",
        "                   \"i dont want to go. can we try it a different day? available sat\",\n",
        "                   \"our new mobile video service is live. just install on your phone to start watching.\",\n",
        "                   \"you have won £1000 cash! call to claim your prize.\",\n",
        "                   \"i'll bring it tomorrow. don't forget the milk.\",\n",
        "                   \"wow, is your arm alright. that happened to me one time too\"\n",
        "                  ]\n",
        "\n",
        "  test_answers = [\"ham\", \"spam\", \"ham\", \"spam\", \"spam\", \"ham\", \"ham\"]\n",
        "  passed = True\n",
        "\n",
        "  for msg, ans in zip(test_messages, test_answers):\n",
        "    prediction = predict_message(msg)\n",
        "    if prediction[1] != ans:\n",
        "      passed = False\n",
        "\n",
        "  if passed:\n",
        "    print(\"You passed the challenge. Great job!\")\n",
        "  else:\n",
        "    print(\"You haven't passed yet. Keep trying.\")\n",
        "\n",
        "test_predictions()\n"
      ]
    }
  ],
  "metadata": {
    "colab": {
      "private_outputs": true,
      "provenance": [],
      "gpuType": "T4"
    },
    "kernelspec": {
      "display_name": "Python 3",
      "name": "python3"
    },
    "language_info": {},
    "accelerator": "GPU"
  },
  "nbformat": 4,
  "nbformat_minor": 0
}